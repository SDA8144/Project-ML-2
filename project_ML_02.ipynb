{
 "cells": [
  {
   "cell_type": "code",
   "execution_count": 1,
   "id": "0e5b8d4c",
   "metadata": {},
   "outputs": [],
   "source": [
    "import pandas as pd\n",
    "import numpy as np\n",
    "import seaborn as sns\n",
    "import matplotlib.pyplot as plt\n",
    "\n",
    "import warnings\n",
    "warnings.filterwarnings(\"ignore\")"
   ]
  },
  {
   "cell_type": "markdown",
   "id": "4495f7b2",
   "metadata": {},
   "source": [
    "## 1) Problem Statement"
   ]
  },
  {
   "cell_type": "markdown",
   "id": "37868b21",
   "metadata": {},
   "source": [
    "- customer churn prediction"
   ]
  },
  {
   "cell_type": "markdown",
   "id": "1fcc9188",
   "metadata": {},
   "source": [
    "## 2) Data Gathering"
   ]
  },
  {
   "cell_type": "code",
   "execution_count": 2,
   "id": "4aed690a",
   "metadata": {},
   "outputs": [
    {
     "data": {
      "text/html": [
       "<div>\n",
       "<style scoped>\n",
       "    .dataframe tbody tr th:only-of-type {\n",
       "        vertical-align: middle;\n",
       "    }\n",
       "\n",
       "    .dataframe tbody tr th {\n",
       "        vertical-align: top;\n",
       "    }\n",
       "\n",
       "    .dataframe thead th {\n",
       "        text-align: right;\n",
       "    }\n",
       "</style>\n",
       "<table border=\"1\" class=\"dataframe\">\n",
       "  <thead>\n",
       "    <tr style=\"text-align: right;\">\n",
       "      <th></th>\n",
       "      <th>Unnamed: 0</th>\n",
       "      <th>Customer Name</th>\n",
       "      <th>Customer_Address</th>\n",
       "      <th>Company Name</th>\n",
       "      <th>Claim Reason</th>\n",
       "      <th>Data confidentiality</th>\n",
       "      <th>Claim Amount</th>\n",
       "      <th>Category Premium</th>\n",
       "      <th>Premium/Amount Ratio</th>\n",
       "      <th>Claim Request output</th>\n",
       "      <th>BMI</th>\n",
       "      <th>Churn</th>\n",
       "    </tr>\n",
       "  </thead>\n",
       "  <tbody>\n",
       "    <tr>\n",
       "      <th>0</th>\n",
       "      <td>0</td>\n",
       "      <td>Christine Payne</td>\n",
       "      <td>7627 Anderson Rest Apt. 265,Lake Heather, DC 3...</td>\n",
       "      <td>Williams, Henderson and Perez</td>\n",
       "      <td>Travel</td>\n",
       "      <td>Low</td>\n",
       "      <td>377</td>\n",
       "      <td>4794</td>\n",
       "      <td>0.078640</td>\n",
       "      <td>No</td>\n",
       "      <td>21</td>\n",
       "      <td>Yes</td>\n",
       "    </tr>\n",
       "    <tr>\n",
       "      <th>1</th>\n",
       "      <td>1</td>\n",
       "      <td>Tony Fernandez</td>\n",
       "      <td>3953 Cindy Brook Apt. 147,East Lindatown, TN 4...</td>\n",
       "      <td>Moore-Goodwin</td>\n",
       "      <td>Medical</td>\n",
       "      <td>High</td>\n",
       "      <td>1440</td>\n",
       "      <td>14390</td>\n",
       "      <td>0.100069</td>\n",
       "      <td>No</td>\n",
       "      <td>24</td>\n",
       "      <td>Yes</td>\n",
       "    </tr>\n",
       "    <tr>\n",
       "      <th>2</th>\n",
       "      <td>2</td>\n",
       "      <td>Christopher Kim</td>\n",
       "      <td>8693 Walters Mountains,South Tony, TX 88407</td>\n",
       "      <td>Smith-Holmes</td>\n",
       "      <td>Phone</td>\n",
       "      <td>Medium</td>\n",
       "      <td>256</td>\n",
       "      <td>1875</td>\n",
       "      <td>0.136533</td>\n",
       "      <td>No</td>\n",
       "      <td>18</td>\n",
       "      <td>Yes</td>\n",
       "    </tr>\n",
       "    <tr>\n",
       "      <th>3</th>\n",
       "      <td>3</td>\n",
       "      <td>Nicole Allen</td>\n",
       "      <td>56926 Webster Coves,Shawnmouth, NV 04853</td>\n",
       "      <td>Harrell-Perez</td>\n",
       "      <td>Phone</td>\n",
       "      <td>Medium</td>\n",
       "      <td>233</td>\n",
       "      <td>1875</td>\n",
       "      <td>0.124267</td>\n",
       "      <td>No</td>\n",
       "      <td>24</td>\n",
       "      <td>Yes</td>\n",
       "    </tr>\n",
       "    <tr>\n",
       "      <th>4</th>\n",
       "      <td>4</td>\n",
       "      <td>Linda Cruz</td>\n",
       "      <td>489 Thomas Forges Apt. 305,Jesseton, GA 36765</td>\n",
       "      <td>Simpson, Kramer and Hughes</td>\n",
       "      <td>Phone</td>\n",
       "      <td>Medium</td>\n",
       "      <td>239</td>\n",
       "      <td>1875</td>\n",
       "      <td>0.127467</td>\n",
       "      <td>No</td>\n",
       "      <td>21</td>\n",
       "      <td>Yes</td>\n",
       "    </tr>\n",
       "  </tbody>\n",
       "</table>\n",
       "</div>"
      ],
      "text/plain": [
       "   Unnamed: 0    Customer Name   \n",
       "0           0  Christine Payne  \\\n",
       "1           1   Tony Fernandez   \n",
       "2           2  Christopher Kim   \n",
       "3           3     Nicole Allen   \n",
       "4           4       Linda Cruz   \n",
       "\n",
       "                                    Customer_Address   \n",
       "0  7627 Anderson Rest Apt. 265,Lake Heather, DC 3...  \\\n",
       "1  3953 Cindy Brook Apt. 147,East Lindatown, TN 4...   \n",
       "2        8693 Walters Mountains,South Tony, TX 88407   \n",
       "3           56926 Webster Coves,Shawnmouth, NV 04853   \n",
       "4      489 Thomas Forges Apt. 305,Jesseton, GA 36765   \n",
       "\n",
       "                    Company Name Claim Reason Data confidentiality   \n",
       "0  Williams, Henderson and Perez       Travel                  Low  \\\n",
       "1                  Moore-Goodwin      Medical                 High   \n",
       "2                   Smith-Holmes        Phone               Medium   \n",
       "3                  Harrell-Perez        Phone               Medium   \n",
       "4     Simpson, Kramer and Hughes        Phone               Medium   \n",
       "\n",
       "   Claim Amount  Category Premium  Premium/Amount Ratio Claim Request output   \n",
       "0           377              4794              0.078640                   No  \\\n",
       "1          1440             14390              0.100069                   No   \n",
       "2           256              1875              0.136533                   No   \n",
       "3           233              1875              0.124267                   No   \n",
       "4           239              1875              0.127467                   No   \n",
       "\n",
       "   BMI Churn  \n",
       "0   21   Yes  \n",
       "1   24   Yes  \n",
       "2   18   Yes  \n",
       "3   24   Yes  \n",
       "4   21   Yes  "
      ]
     },
     "execution_count": 2,
     "metadata": {},
     "output_type": "execute_result"
    }
   ],
   "source": [
    "df = pd.read_csv(\"randomdata.csv\")\n",
    "df.head()"
   ]
  },
  {
   "cell_type": "markdown",
   "id": "a1183203",
   "metadata": {},
   "source": [
    "## 3) EDA"
   ]
  },
  {
   "cell_type": "markdown",
   "id": "4ec10fe3",
   "metadata": {},
   "source": [
    "### INSIGHTS"
   ]
  },
  {
   "cell_type": "markdown",
   "id": "3f9d75dc",
   "metadata": {},
   "source": [
    "- Shape of the data :-\n",
    "    - rows    - 200000\n",
    "    - columns - 12\n",
    "    \n",
    "- Finding missing values:-\n",
    "    - There is no missing value present in any column\n",
    "\n",
    "- How many numerical column present in dataframe : - 05\n",
    "- Numerical columns are :- ['Unnamed: 0', 'Claim Amount', 'Category Premium','Premium/Amount Ratio', 'BMI']\n",
    "- How many object type present :- 07\n",
    "- Odject columns are : ['Customer Name', 'Customer_Address', 'Company Name', 'Claim Reason','Data confidentiality', 'Claim Request output', 'Churn']\n",
    " \n",
    " - Categorical columns value count:-\n",
    "- a) Claim Reason:-\n",
    "      - Medical    109863\n",
    "      - Other       30187\n",
    "      - Phone       30016\n",
    "      - Travel      29934\n",
    "- b) Data confidentiality:-\n",
    "       - High        109863\n",
    "       - Very low     30187\n",
    "       - Medium       30016\n",
    "       - Low          29934\n",
    "- c) Claim Request output:-\n",
    "       - No     192994\n",
    "       - Yes      7006\n",
    "- d) Churn:-\n",
    "       - Yes    127272\n",
    "       - No      72728"
   ]
  },
  {
   "cell_type": "markdown",
   "id": "719dd592",
   "metadata": {},
   "source": [
    "- #################################################################### ####################################################"
   ]
  },
  {
   "cell_type": "markdown",
   "id": "18213a89",
   "metadata": {},
   "source": [
    "- Shape of the data :-\n",
    "    - rows    - 200000\n",
    "    - columns - 12"
   ]
  },
  {
   "cell_type": "code",
   "execution_count": 3,
   "id": "cedbcc05",
   "metadata": {},
   "outputs": [
    {
     "data": {
      "text/plain": [
       "(200000, 12)"
      ]
     },
     "execution_count": 3,
     "metadata": {},
     "output_type": "execute_result"
    }
   ],
   "source": [
    "df.shape"
   ]
  },
  {
   "cell_type": "markdown",
   "id": "4b9a6b1e",
   "metadata": {},
   "source": [
    "- ############################################################## Next ####################################################"
   ]
  },
  {
   "cell_type": "markdown",
   "id": "a7372e5d",
   "metadata": {},
   "source": [
    "- Finding missing values:-\n",
    "    - There is no missing value present in any column"
   ]
  },
  {
   "cell_type": "code",
   "execution_count": 4,
   "id": "ba68822c",
   "metadata": {},
   "outputs": [
    {
     "data": {
      "text/plain": [
       "Unnamed: 0              0.0\n",
       "Customer Name           0.0\n",
       "Customer_Address        0.0\n",
       "Company Name            0.0\n",
       "Claim Reason            0.0\n",
       "Data confidentiality    0.0\n",
       "Claim Amount            0.0\n",
       "Category Premium        0.0\n",
       "Premium/Amount Ratio    0.0\n",
       "Claim Request output    0.0\n",
       "BMI                     0.0\n",
       "Churn                   0.0\n",
       "dtype: float64"
      ]
     },
     "execution_count": 4,
     "metadata": {},
     "output_type": "execute_result"
    }
   ],
   "source": [
    "df.isna().mean()*100"
   ]
  },
  {
   "cell_type": "code",
   "execution_count": 5,
   "id": "e257f74c",
   "metadata": {},
   "outputs": [
    {
     "data": {
      "text/plain": [
       "Unnamed: 0              0\n",
       "Customer Name           0\n",
       "Customer_Address        0\n",
       "Company Name            0\n",
       "Claim Reason            0\n",
       "Data confidentiality    0\n",
       "Claim Amount            0\n",
       "Category Premium        0\n",
       "Premium/Amount Ratio    0\n",
       "Claim Request output    0\n",
       "BMI                     0\n",
       "Churn                   0\n",
       "dtype: int64"
      ]
     },
     "execution_count": 5,
     "metadata": {},
     "output_type": "execute_result"
    }
   ],
   "source": [
    "df.isna().sum()"
   ]
  },
  {
   "cell_type": "markdown",
   "id": "17196b7b",
   "metadata": {},
   "source": [
    "- ############################################################## Next ####################################################"
   ]
  },
  {
   "cell_type": "markdown",
   "id": "6cf7fb64",
   "metadata": {},
   "source": [
    "- Data Type of columns:-\n",
    "    - int column    > 4\n",
    "    - float column  > 1\n",
    "    - object column > 7"
   ]
  },
  {
   "cell_type": "code",
   "execution_count": 6,
   "id": "e3037999",
   "metadata": {},
   "outputs": [
    {
     "name": "stdout",
     "output_type": "stream",
     "text": [
      "<class 'pandas.core.frame.DataFrame'>\n",
      "RangeIndex: 200000 entries, 0 to 199999\n",
      "Data columns (total 12 columns):\n",
      " #   Column                Non-Null Count   Dtype  \n",
      "---  ------                --------------   -----  \n",
      " 0   Unnamed: 0            200000 non-null  int64  \n",
      " 1   Customer Name         200000 non-null  object \n",
      " 2   Customer_Address      200000 non-null  object \n",
      " 3   Company Name          200000 non-null  object \n",
      " 4   Claim Reason          200000 non-null  object \n",
      " 5   Data confidentiality  200000 non-null  object \n",
      " 6   Claim Amount          200000 non-null  int64  \n",
      " 7   Category Premium      200000 non-null  int64  \n",
      " 8   Premium/Amount Ratio  200000 non-null  float64\n",
      " 9   Claim Request output  200000 non-null  object \n",
      " 10  BMI                   200000 non-null  int64  \n",
      " 11  Churn                 200000 non-null  object \n",
      "dtypes: float64(1), int64(4), object(7)\n",
      "memory usage: 18.3+ MB\n"
     ]
    }
   ],
   "source": [
    "df.info()"
   ]
  },
  {
   "cell_type": "markdown",
   "id": "0abc1e0a",
   "metadata": {},
   "source": [
    "- ############################################################## Next ####################################################"
   ]
  },
  {
   "cell_type": "markdown",
   "id": "74674bf1",
   "metadata": {},
   "source": [
    "- How many numerical column present in dataframe : - 05\n",
    "- Numerical columns are :- ['Unnamed: 0', 'Claim Amount', 'Category Premium','Premium/Amount Ratio', 'BMI']"
   ]
  },
  {
   "cell_type": "code",
   "execution_count": 9,
   "id": "2eab86f5",
   "metadata": {},
   "outputs": [
    {
     "data": {
      "text/html": [
       "<div>\n",
       "<style scoped>\n",
       "    .dataframe tbody tr th:only-of-type {\n",
       "        vertical-align: middle;\n",
       "    }\n",
       "\n",
       "    .dataframe tbody tr th {\n",
       "        vertical-align: top;\n",
       "    }\n",
       "\n",
       "    .dataframe thead th {\n",
       "        text-align: right;\n",
       "    }\n",
       "</style>\n",
       "<table border=\"1\" class=\"dataframe\">\n",
       "  <thead>\n",
       "    <tr style=\"text-align: right;\">\n",
       "      <th></th>\n",
       "      <th>Unnamed: 0</th>\n",
       "      <th>Claim Amount</th>\n",
       "      <th>Category Premium</th>\n",
       "      <th>Premium/Amount Ratio</th>\n",
       "      <th>BMI</th>\n",
       "    </tr>\n",
       "  </thead>\n",
       "  <tbody>\n",
       "    <tr>\n",
       "      <th>0</th>\n",
       "      <td>0</td>\n",
       "      <td>377</td>\n",
       "      <td>4794</td>\n",
       "      <td>0.078640</td>\n",
       "      <td>21</td>\n",
       "    </tr>\n",
       "    <tr>\n",
       "      <th>1</th>\n",
       "      <td>1</td>\n",
       "      <td>1440</td>\n",
       "      <td>14390</td>\n",
       "      <td>0.100069</td>\n",
       "      <td>24</td>\n",
       "    </tr>\n",
       "    <tr>\n",
       "      <th>2</th>\n",
       "      <td>2</td>\n",
       "      <td>256</td>\n",
       "      <td>1875</td>\n",
       "      <td>0.136533</td>\n",
       "      <td>18</td>\n",
       "    </tr>\n",
       "    <tr>\n",
       "      <th>3</th>\n",
       "      <td>3</td>\n",
       "      <td>233</td>\n",
       "      <td>1875</td>\n",
       "      <td>0.124267</td>\n",
       "      <td>24</td>\n",
       "    </tr>\n",
       "    <tr>\n",
       "      <th>4</th>\n",
       "      <td>4</td>\n",
       "      <td>239</td>\n",
       "      <td>1875</td>\n",
       "      <td>0.127467</td>\n",
       "      <td>21</td>\n",
       "    </tr>\n",
       "    <tr>\n",
       "      <th>...</th>\n",
       "      <td>...</td>\n",
       "      <td>...</td>\n",
       "      <td>...</td>\n",
       "      <td>...</td>\n",
       "      <td>...</td>\n",
       "    </tr>\n",
       "    <tr>\n",
       "      <th>199995</th>\n",
       "      <td>199995</td>\n",
       "      <td>1563</td>\n",
       "      <td>14390</td>\n",
       "      <td>0.108617</td>\n",
       "      <td>18</td>\n",
       "    </tr>\n",
       "    <tr>\n",
       "      <th>199996</th>\n",
       "      <td>199996</td>\n",
       "      <td>1342</td>\n",
       "      <td>14390</td>\n",
       "      <td>0.093259</td>\n",
       "      <td>22</td>\n",
       "    </tr>\n",
       "    <tr>\n",
       "      <th>199997</th>\n",
       "      <td>199997</td>\n",
       "      <td>2278</td>\n",
       "      <td>14390</td>\n",
       "      <td>0.158304</td>\n",
       "      <td>19</td>\n",
       "    </tr>\n",
       "    <tr>\n",
       "      <th>199998</th>\n",
       "      <td>199998</td>\n",
       "      <td>532</td>\n",
       "      <td>4794</td>\n",
       "      <td>0.110972</td>\n",
       "      <td>24</td>\n",
       "    </tr>\n",
       "    <tr>\n",
       "      <th>199999</th>\n",
       "      <td>199999</td>\n",
       "      <td>1755</td>\n",
       "      <td>14390</td>\n",
       "      <td>0.121960</td>\n",
       "      <td>22</td>\n",
       "    </tr>\n",
       "  </tbody>\n",
       "</table>\n",
       "<p>200000 rows × 5 columns</p>\n",
       "</div>"
      ],
      "text/plain": [
       "        Unnamed: 0  Claim Amount  Category Premium  Premium/Amount Ratio  BMI\n",
       "0                0           377              4794              0.078640   21\n",
       "1                1          1440             14390              0.100069   24\n",
       "2                2           256              1875              0.136533   18\n",
       "3                3           233              1875              0.124267   24\n",
       "4                4           239              1875              0.127467   21\n",
       "...            ...           ...               ...                   ...  ...\n",
       "199995      199995          1563             14390              0.108617   18\n",
       "199996      199996          1342             14390              0.093259   22\n",
       "199997      199997          2278             14390              0.158304   19\n",
       "199998      199998           532              4794              0.110972   24\n",
       "199999      199999          1755             14390              0.121960   22\n",
       "\n",
       "[200000 rows x 5 columns]"
      ]
     },
     "execution_count": 9,
     "metadata": {},
     "output_type": "execute_result"
    }
   ],
   "source": [
    "df._get_numeric_data()"
   ]
  },
  {
   "cell_type": "code",
   "execution_count": 10,
   "id": "5ea49719",
   "metadata": {},
   "outputs": [
    {
     "data": {
      "text/plain": [
       "Index(['Unnamed: 0', 'Claim Amount', 'Category Premium',\n",
       "       'Premium/Amount Ratio', 'BMI'],\n",
       "      dtype='object')"
      ]
     },
     "execution_count": 10,
     "metadata": {},
     "output_type": "execute_result"
    }
   ],
   "source": [
    "df._get_numeric_data().columns"
   ]
  },
  {
   "cell_type": "markdown",
   "id": "93f1ab0d",
   "metadata": {},
   "source": [
    "- ############################################################## Next ####################################################"
   ]
  },
  {
   "cell_type": "markdown",
   "id": "856d042d",
   "metadata": {},
   "source": [
    "- How many object type present :- 07\n",
    "- Odject columns are : ['Customer Name', 'Customer_Address', 'Company Name', 'Claim Reason','Data confidentiality', 'Claim Request output', 'Churn']"
   ]
  },
  {
   "cell_type": "code",
   "execution_count": 16,
   "id": "eaf87841",
   "metadata": {},
   "outputs": [
    {
     "data": {
      "text/html": [
       "<div>\n",
       "<style scoped>\n",
       "    .dataframe tbody tr th:only-of-type {\n",
       "        vertical-align: middle;\n",
       "    }\n",
       "\n",
       "    .dataframe tbody tr th {\n",
       "        vertical-align: top;\n",
       "    }\n",
       "\n",
       "    .dataframe thead th {\n",
       "        text-align: right;\n",
       "    }\n",
       "</style>\n",
       "<table border=\"1\" class=\"dataframe\">\n",
       "  <thead>\n",
       "    <tr style=\"text-align: right;\">\n",
       "      <th></th>\n",
       "      <th>Customer Name</th>\n",
       "      <th>Customer_Address</th>\n",
       "      <th>Company Name</th>\n",
       "      <th>Claim Reason</th>\n",
       "      <th>Data confidentiality</th>\n",
       "      <th>Claim Request output</th>\n",
       "      <th>Churn</th>\n",
       "    </tr>\n",
       "  </thead>\n",
       "  <tbody>\n",
       "    <tr>\n",
       "      <th>0</th>\n",
       "      <td>Christine Payne</td>\n",
       "      <td>7627 Anderson Rest Apt. 265,Lake Heather, DC 3...</td>\n",
       "      <td>Williams, Henderson and Perez</td>\n",
       "      <td>Travel</td>\n",
       "      <td>Low</td>\n",
       "      <td>No</td>\n",
       "      <td>Yes</td>\n",
       "    </tr>\n",
       "    <tr>\n",
       "      <th>1</th>\n",
       "      <td>Tony Fernandez</td>\n",
       "      <td>3953 Cindy Brook Apt. 147,East Lindatown, TN 4...</td>\n",
       "      <td>Moore-Goodwin</td>\n",
       "      <td>Medical</td>\n",
       "      <td>High</td>\n",
       "      <td>No</td>\n",
       "      <td>Yes</td>\n",
       "    </tr>\n",
       "    <tr>\n",
       "      <th>2</th>\n",
       "      <td>Christopher Kim</td>\n",
       "      <td>8693 Walters Mountains,South Tony, TX 88407</td>\n",
       "      <td>Smith-Holmes</td>\n",
       "      <td>Phone</td>\n",
       "      <td>Medium</td>\n",
       "      <td>No</td>\n",
       "      <td>Yes</td>\n",
       "    </tr>\n",
       "    <tr>\n",
       "      <th>3</th>\n",
       "      <td>Nicole Allen</td>\n",
       "      <td>56926 Webster Coves,Shawnmouth, NV 04853</td>\n",
       "      <td>Harrell-Perez</td>\n",
       "      <td>Phone</td>\n",
       "      <td>Medium</td>\n",
       "      <td>No</td>\n",
       "      <td>Yes</td>\n",
       "    </tr>\n",
       "    <tr>\n",
       "      <th>4</th>\n",
       "      <td>Linda Cruz</td>\n",
       "      <td>489 Thomas Forges Apt. 305,Jesseton, GA 36765</td>\n",
       "      <td>Simpson, Kramer and Hughes</td>\n",
       "      <td>Phone</td>\n",
       "      <td>Medium</td>\n",
       "      <td>No</td>\n",
       "      <td>Yes</td>\n",
       "    </tr>\n",
       "    <tr>\n",
       "      <th>...</th>\n",
       "      <td>...</td>\n",
       "      <td>...</td>\n",
       "      <td>...</td>\n",
       "      <td>...</td>\n",
       "      <td>...</td>\n",
       "      <td>...</td>\n",
       "      <td>...</td>\n",
       "    </tr>\n",
       "    <tr>\n",
       "      <th>199995</th>\n",
       "      <td>Matthew Estrada</td>\n",
       "      <td>2024 Lopez Gateway,Lake Pamelafort, MS 35772</td>\n",
       "      <td>Carlson-Matthews</td>\n",
       "      <td>Medical</td>\n",
       "      <td>High</td>\n",
       "      <td>No</td>\n",
       "      <td>Yes</td>\n",
       "    </tr>\n",
       "    <tr>\n",
       "      <th>199996</th>\n",
       "      <td>James Bean</td>\n",
       "      <td>0268 Lori Falls,West Jeffrey, SC 49142</td>\n",
       "      <td>Trevino-Cardenas</td>\n",
       "      <td>Medical</td>\n",
       "      <td>High</td>\n",
       "      <td>No</td>\n",
       "      <td>Yes</td>\n",
       "    </tr>\n",
       "    <tr>\n",
       "      <th>199997</th>\n",
       "      <td>David Meyer</td>\n",
       "      <td>00573 Miller Cliff,New Allenbury, SC 68902</td>\n",
       "      <td>Simon-Evans</td>\n",
       "      <td>Medical</td>\n",
       "      <td>High</td>\n",
       "      <td>No</td>\n",
       "      <td>Yes</td>\n",
       "    </tr>\n",
       "    <tr>\n",
       "      <th>199998</th>\n",
       "      <td>Martha Stone</td>\n",
       "      <td>62681 Peters Cove,South Anthony, RI 99783</td>\n",
       "      <td>Baker, Brooks and Porter</td>\n",
       "      <td>Travel</td>\n",
       "      <td>Low</td>\n",
       "      <td>No</td>\n",
       "      <td>Yes</td>\n",
       "    </tr>\n",
       "    <tr>\n",
       "      <th>199999</th>\n",
       "      <td>Shannon Lewis</td>\n",
       "      <td>Unit 6569 Box 2236,DPO AE 88045</td>\n",
       "      <td>Roth, Merritt and Grant</td>\n",
       "      <td>Medical</td>\n",
       "      <td>High</td>\n",
       "      <td>No</td>\n",
       "      <td>Yes</td>\n",
       "    </tr>\n",
       "  </tbody>\n",
       "</table>\n",
       "<p>200000 rows × 7 columns</p>\n",
       "</div>"
      ],
      "text/plain": [
       "          Customer Name                                   Customer_Address   \n",
       "0       Christine Payne  7627 Anderson Rest Apt. 265,Lake Heather, DC 3...  \\\n",
       "1        Tony Fernandez  3953 Cindy Brook Apt. 147,East Lindatown, TN 4...   \n",
       "2       Christopher Kim        8693 Walters Mountains,South Tony, TX 88407   \n",
       "3          Nicole Allen           56926 Webster Coves,Shawnmouth, NV 04853   \n",
       "4            Linda Cruz      489 Thomas Forges Apt. 305,Jesseton, GA 36765   \n",
       "...                 ...                                                ...   \n",
       "199995  Matthew Estrada       2024 Lopez Gateway,Lake Pamelafort, MS 35772   \n",
       "199996       James Bean             0268 Lori Falls,West Jeffrey, SC 49142   \n",
       "199997      David Meyer         00573 Miller Cliff,New Allenbury, SC 68902   \n",
       "199998     Martha Stone          62681 Peters Cove,South Anthony, RI 99783   \n",
       "199999    Shannon Lewis                    Unit 6569 Box 2236,DPO AE 88045   \n",
       "\n",
       "                         Company Name Claim Reason Data confidentiality   \n",
       "0       Williams, Henderson and Perez       Travel                  Low  \\\n",
       "1                       Moore-Goodwin      Medical                 High   \n",
       "2                        Smith-Holmes        Phone               Medium   \n",
       "3                       Harrell-Perez        Phone               Medium   \n",
       "4          Simpson, Kramer and Hughes        Phone               Medium   \n",
       "...                               ...          ...                  ...   \n",
       "199995               Carlson-Matthews      Medical                 High   \n",
       "199996               Trevino-Cardenas      Medical                 High   \n",
       "199997                    Simon-Evans      Medical                 High   \n",
       "199998       Baker, Brooks and Porter       Travel                  Low   \n",
       "199999        Roth, Merritt and Grant      Medical                 High   \n",
       "\n",
       "       Claim Request output Churn  \n",
       "0                        No   Yes  \n",
       "1                        No   Yes  \n",
       "2                        No   Yes  \n",
       "3                        No   Yes  \n",
       "4                        No   Yes  \n",
       "...                     ...   ...  \n",
       "199995                   No   Yes  \n",
       "199996                   No   Yes  \n",
       "199997                   No   Yes  \n",
       "199998                   No   Yes  \n",
       "199999                   No   Yes  \n",
       "\n",
       "[200000 rows x 7 columns]"
      ]
     },
     "execution_count": 16,
     "metadata": {},
     "output_type": "execute_result"
    }
   ],
   "source": [
    "df.select_dtypes(include=\"object\")"
   ]
  },
  {
   "cell_type": "code",
   "execution_count": 18,
   "id": "9a76d247",
   "metadata": {},
   "outputs": [
    {
     "data": {
      "text/plain": [
       "Index(['Customer Name', 'Customer_Address', 'Company Name', 'Claim Reason',\n",
       "       'Data confidentiality', 'Claim Request output', 'Churn'],\n",
       "      dtype='object')"
      ]
     },
     "execution_count": 18,
     "metadata": {},
     "output_type": "execute_result"
    }
   ],
   "source": [
    "df.select_dtypes(include=\"object\").columns"
   ]
  },
  {
   "cell_type": "markdown",
   "id": "af9f5e6e",
   "metadata": {},
   "source": [
    "- ############################################################## Next ####################################################"
   ]
  },
  {
   "cell_type": "markdown",
   "id": "8e0681a6",
   "metadata": {},
   "source": [
    "- Categorical columns value count:-\n",
    "- a) Claim Reason:-\n",
    "      - Medical    109863\n",
    "      - Other       30187\n",
    "      - Phone       30016\n",
    "      - Travel      29934\n",
    "- b) Data confidentiality:-\n",
    "       - High        109863\n",
    "       - Very low     30187\n",
    "       - Medium       30016\n",
    "       - Low          29934\n",
    "- c) Claim Request output:-\n",
    "       - No     192994\n",
    "       - Yes      7006\n",
    "- d) Churn:-\n",
    "       - Yes    127272\n",
    "       - No      72728"
   ]
  },
  {
   "cell_type": "code",
   "execution_count": 22,
   "id": "7b3fe9f0",
   "metadata": {},
   "outputs": [
    {
     "name": "stdout",
     "output_type": "stream",
     "text": [
      "Claim Reason\n",
      "Medical    109863\n",
      "Other       30187\n",
      "Phone       30016\n",
      "Travel      29934\n",
      "Name: count, dtype: int64\n",
      "********************\n",
      "Data confidentiality\n",
      "High        109863\n",
      "Very low     30187\n",
      "Medium       30016\n",
      "Low          29934\n",
      "Name: count, dtype: int64\n",
      "********************\n",
      "Claim Request output\n",
      "No     192994\n",
      "Yes      7006\n",
      "Name: count, dtype: int64\n",
      "********************\n",
      "Churn\n",
      "Yes    127272\n",
      "No      72728\n",
      "Name: count, dtype: int64\n",
      "********************\n"
     ]
    }
   ],
   "source": [
    "lst = ['Claim Reason','Data confidentiality', 'Claim Request output', 'Churn']\n",
    "for i in lst:\n",
    "    print(df[i].value_counts())\n",
    "    print(\"*\"*20)"
   ]
  },
  {
   "cell_type": "markdown",
   "id": "4179111d",
   "metadata": {},
   "source": [
    "- ############################################################## Next ####################################################"
   ]
  },
  {
   "cell_type": "markdown",
   "id": "56d26adc",
   "metadata": {},
   "source": [
    "- Outliers\n",
    "- Tere is no missing values Present"
   ]
  },
  {
   "cell_type": "code",
   "execution_count": 23,
   "id": "18a38fc2",
   "metadata": {},
   "outputs": [
    {
     "data": {
      "text/plain": [
       "Index(['Unnamed: 0', 'Claim Amount', 'Category Premium',\n",
       "       'Premium/Amount Ratio', 'BMI'],\n",
       "      dtype='object')"
      ]
     },
     "execution_count": 23,
     "metadata": {},
     "output_type": "execute_result"
    }
   ],
   "source": [
    "df.select_dtypes(exclude=\"object\").columns"
   ]
  },
  {
   "cell_type": "code",
   "execution_count": 24,
   "id": "91debfab",
   "metadata": {},
   "outputs": [
    {
     "data": {
      "text/plain": [
       "<AxesSubplot:xlabel='Claim Amount'>"
      ]
     },
     "execution_count": 24,
     "metadata": {},
     "output_type": "execute_result"
    },
    {
     "data": {
      "image/png": "[encoded data removed]",
      "text/plain": [
       "<Figure size 432x288 with 1 Axes>"
      ]
     },
     "metadata": {
      "needs_background": "light"
     },
     "output_type": "display_data"
    }
   ],
   "source": [
    "sns.boxplot(df[\"Claim Amount\"])"
   ]
  },
  {
   "cell_type": "code",
   "execution_count": 25,
   "id": "1e5e46b0",
   "metadata": {},
   "outputs": [
    {
     "data": {
      "text/plain": [
       "<AxesSubplot:xlabel='Category Premium'>"
      ]
     },
     "execution_count": 25,
     "metadata": {},
     "output_type": "execute_result"
    },
    {
     "data": {
      "image/png": "[encoded data removed]",
      "text/plain": [
       "<Figure size 432x288 with 1 Axes>"
      ]
     },
     "metadata": {
      "needs_background": "light"
     },
     "output_type": "display_data"
    }
   ],
   "source": [
    "sns.boxplot(df[\"Category Premium\"])"
   ]
  },
  {
   "cell_type": "code",
   "execution_count": 28,
   "id": "2b2440fc",
   "metadata": {},
   "outputs": [
    {
     "data": {
      "text/plain": [
       "<AxesSubplot:xlabel='BMI'>"
      ]
     },
     "execution_count": 28,
     "metadata": {},
     "output_type": "execute_result"
    },
    {
     "data": {
      "image/png": "[encoded data removed]",
      "text/plain": [
       "<Figure size 432x288 with 1 Axes>"
      ]
     },
     "metadata": {
      "needs_background": "light"
     },
     "output_type": "display_data"
    }
   ],
   "source": [
    "sns.boxplot(df[\"BMI\"])"
   ]
  },
  {
   "cell_type": "code",
   "execution_count": null,
   "id": "a009fe59",
   "metadata": {},
   "outputs": [],
   "source": []
  }
 ],
 "metadata": {
  "kernelspec": {
   "display_name": "Python 3 (ipykernel)",
   "language": "python",
   "name": "python3"
  },
  "language_info": {
   "codemirror_mode": {
    "name": "ipython",
    "version": 3
   },
   "file_extension": ".py",
   "mimetype": "text/x-python",
   "name": "python",
   "nbconvert_exporter": "python",
   "pygments_lexer": "ipython3",
   "version": "3.9.7"
  }
 },
 "nbformat": 4,
 "nbformat_minor": 5
}
